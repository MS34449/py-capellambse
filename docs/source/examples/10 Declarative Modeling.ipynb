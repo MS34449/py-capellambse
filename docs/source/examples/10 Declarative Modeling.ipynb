{
 "cells": [
  {
   "cell_type": "markdown",
   "metadata": {},
   "source": [
    "# Declarative Modeling Example\n",
    "\n",
    "Declarative approach to modeling means that one could define or update a model using a fragment of structured text. A number of fragments could be \"played\" against a model in a sequence to build it up.\n",
    "\n",
    "Enabling declarative modeling for Capella models enables a range of complex automations around modeling process that are explainable / transparent to human auditors.\n",
    "\n",
    "This notebook will demonstrate a basic application of this approach to modeling on a coffee machine example. Please note that we will not model any specific modeling process but rather a \"free-form\" demo."
   ]
  },
  {
   "cell_type": "markdown",
   "metadata": {},
   "source": [
    "## System Analysis of a Coffee Machine\n",
    "\n",
    "Lets do a quick system analysis of a coffee machine. Lets assume that our meta-solution is an automated coffee machine for a household use. We may look into variant management scenario in a separate example.\n",
    "\n",
    "### 0. Initialize\n",
    "\n",
    "But before we can model something lets first initialize the model. We will use an empty Capella 5.2 model as a starting point."
   ]
  },
  {
   "cell_type": "code",
   "execution_count": 1,
   "metadata": {},
   "outputs": [
    {
     "name": "stderr",
     "output_type": "stream",
     "text": [
      "Cannot load PVMT extension: ValueError: Provided model does not have a PropertyValuePkg\n",
      "Property values are not available in this model\n"
     ]
    }
   ],
   "source": [
    "import capellambse\n",
    "import io\n",
    "from capellambse import decl\n",
    "\n",
    "model = capellambse.MelodyModel(\n",
    "    \"../../../tests/data/decl/empty_project_52/empty_project_52.aird\",\n",
    "    jupyter_untrusted=True\n",
    ")"
   ]
  },
  {
   "cell_type": "markdown",
   "metadata": {},
   "source": [
    "to visualize the modeling results we'll use context-diagrams extension, you may get one by uncommenting and running the command below"
   ]
  },
  {
   "cell_type": "code",
   "execution_count": 2,
   "metadata": {},
   "outputs": [],
   "source": [
    "#!pip install capellambse_context_diagrams"
   ]
  },
  {
   "cell_type": "markdown",
   "metadata": {},
   "source": [
    "lets verify that the model is empty at SA layer:"
   ]
  },
  {
   "cell_type": "code",
   "execution_count": 3,
   "metadata": {},
   "outputs": [
    {
     "name": "stdout",
     "output_type": "stream",
     "text": [
      "At SA layer the model has 0, out of which 0 are allocated to Root Component\n"
     ]
    }
   ],
   "source": [
    "functions_allocated = model.sa.root_component.allocated_functions\n",
    "functions_available = model.sa.root_function.functions\n",
    "print(f\"At SA layer the model has {len(functions_available)}, out of which {len(functions_allocated)} are allocated to Root Component\")"
   ]
  },
  {
   "cell_type": "markdown",
   "metadata": {},
   "source": [
    "Also for this to work we'll need \"coordinates\" of some key elements in the model:"
   ]
  },
  {
   "cell_type": "code",
   "execution_count": 4,
   "metadata": {},
   "outputs": [],
   "source": [
    "root_function = model.sa.root_function\n",
    "root_component = model.sa.root_component\n",
    "structure = model.sa.component_package"
   ]
  },
  {
   "cell_type": "markdown",
   "metadata": {},
   "source": [
    "### 1. Context\n",
    "\n",
    "Lets start by renaming the root component from **System** to **Coffee Machine**, creating a human actor **User** and a component exchange between those two.\n",
    "\n",
    "We can achieve this by applying the following YAML patch to an empty Capella model:"
   ]
  },
  {
   "cell_type": "code",
   "execution_count": 5,
   "metadata": {},
   "outputs": [],
   "source": [
    "model_update = f\"\"\"\n",
    "- parent: !uuid {root_component.uuid}\n",
    "  modify:\n",
    "    name: Coffee Machine\n",
    "- parent: !uuid {root_component.uuid}\n",
    "  extend:\n",
    "    ports:\n",
    "      - name: usr\n",
    "        direction: INOUT\n",
    "        promise_id: usr-port-promise\n",
    "    exchanges:\n",
    "      - name: user interactions\n",
    "        source: !promise usr-port-promise\n",
    "        target: !promise cm-port-promise\n",
    "- parent: !uuid {structure.uuid}\n",
    "  extend:\n",
    "    components:\n",
    "      - name: User\n",
    "        is_actor: true\n",
    "        is_human: true\n",
    "        ports:\n",
    "          - name: cm\n",
    "            direction: INOUT\n",
    "            promise_id: cm-port-promise\n",
    "\"\"\"\n",
    "# the below line applies the model_update to the model\n",
    "decl.apply(model, io.StringIO(model_update))"
   ]
  },
  {
   "attachments": {},
   "cell_type": "markdown",
   "metadata": {},
   "source": [
    "Now we can verify the changes by visualizing the context of our system under analysis:"
   ]
  },
  {
   "cell_type": "code",
   "execution_count": 6,
   "metadata": {},
   "outputs": [
    {
     "data": {
      "image/png": "[encoded data removed]",
      "text/plain": [
       "<Diagram 'Context of Coffee Machine'>"
      ]
     },
     "execution_count": 6,
     "metadata": {},
     "output_type": "execute_result"
    }
   ],
   "source": [
    "root_component.context_diagram"
   ]
  },
  {
   "attachments": {},
   "cell_type": "markdown",
   "metadata": {},
   "source": [
    "Please note: the changes we made are not yet stored - if you like those to be saved you may use `model.save()` method. This will save the model back to where it was loaded from, for example by writing back into local files, or by creating a Git commit and pushing it back to the remote.\n",
    "\n",
    "For more information checkout the documentation about the [declarative modelling] feature.\n",
    "\n",
    "[declarative modelling]: https://dsd-dbs.github.io/py-capellambse/start/declarative.html"
   ]
  }
 ],
 "metadata": {
  "kernelspec": {
   "display_name": "Python 3.10.6 ('venv')",
   "language": "python",
   "name": "python3"
  },
  "language_info": {
   "codemirror_mode": {
    "name": "ipython",
    "version": 3
   },
   "file_extension": ".py",
   "mimetype": "text/x-python",
   "name": "python",
   "nbconvert_exporter": "python",
   "pygments_lexer": "ipython3",
   "version": "3.10.6"
  },
  "orig_nbformat": 4,
  "vscode": {
   "interpreter": {
    "hash": "68692079392476f3e5957229567211dae86496de106b15869a99d77792561652"
   }
  }
 },
 "nbformat": 4,
 "nbformat_minor": 2
}
