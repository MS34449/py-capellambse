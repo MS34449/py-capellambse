{
 "cells": [
  {
   "cell_type": "markdown",
   "id": "f4599550",
   "metadata": {},
   "source": [
    "# Property Values\n",
    "\n",
    "capellambse provides access to property values and property value groups, as well as the Property Value Management (PVMT) extension.\n",
    "\n",
    "The first part of this notebook will show how to access and work with basic property values and groups. The second part will demonstrate how to use the PVMT extension."
   ]
  },
  {
   "cell_type": "code",
   "execution_count": 1,
   "id": "fb62b658",
   "metadata": {},
   "outputs": [],
   "source": [
    "import capellambse\n",
    "model = capellambse.MelodyModel(\n",
    "    \"../../../tests/data/melodymodel/5_0/Melody Model Test.aird\",\n",
    "    jupyter_untrusted=True\n",
    ")"
   ]
  },
  {
   "cell_type": "markdown",
   "id": "f4effeec",
   "metadata": {},
   "source": [
    "Model objects can own property values and PV groups. To access those, use the `property_values` and `property_value_groups` attributes respectively:"
   ]
  },
  {
   "cell_type": "code",
   "execution_count": 2,
   "id": "3491dc40",
   "metadata": {},
   "outputs": [],
   "source": [
    "obj = model.search(\"LogicalComponent\").by_name(\"Whomping Willow\")"
   ]
  },
  {
   "cell_type": "code",
   "execution_count": 3,
   "id": "6f1304b7",
   "metadata": {},
   "outputs": [
    {
     "data": {
      "text/html": [
       "<ol start=\"0\" style=\"text-align: left;\"><li><strong>IntegerPropertyValue</strong> &quot;cars_defeated&quot;: 1 (a928fa22-cef7-4357-9b87-675a432f6591)</li></ol>"
      ],
      "text/plain": [
       "[0] <IntegerPropertyValue 'cars_defeated' (a928fa22-cef7-4357-9b87-675a432f6591)>"
      ]
     },
     "execution_count": 3,
     "metadata": {},
     "output_type": "execute_result"
    }
   ],
   "source": [
    "obj.property_values"
   ]
  },
  {
   "cell_type": "code",
   "execution_count": 4,
   "id": "3c105268",
   "metadata": {},
   "outputs": [
    {
     "data": {
      "text/html": [
       "<ol start=\"0\" style=\"text-align: left;\"><li><strong>PropertyValueGroup</strong> &quot;Stats&quot; (81bcc3d3-24d2-411e-a296-9943029acfd9)</li></ol>"
      ],
      "text/plain": [
       "[0] <PropertyValueGroup 'Stats' (81bcc3d3-24d2-411e-a296-9943029acfd9)>"
      ]
     },
     "execution_count": 4,
     "metadata": {},
     "output_type": "execute_result"
    }
   ],
   "source": [
    "obj.property_value_groups"
   ]
  },
  {
   "cell_type": "markdown",
   "id": "06426fae",
   "metadata": {},
   "source": [
    "These attributes can also behave dict-like, mapping the `name` of a property value objects to their `value`, or mapping the `name` of property value groups to a list of property values in them."
   ]
  },
  {
   "cell_type": "code",
   "execution_count": 5,
   "id": "0e03011b",
   "metadata": {},
   "outputs": [
    {
     "data": {
      "text/plain": [
       "1"
      ]
     },
     "execution_count": 5,
     "metadata": {},
     "output_type": "execute_result"
    }
   ],
   "source": [
    "obj.property_values[\"cars_defeated\"]"
   ]
  },
  {
   "cell_type": "code",
   "execution_count": 6,
   "id": "2cc26810",
   "metadata": {},
   "outputs": [
    {
     "data": {
      "text/html": [
       "<ol start=\"0\" style=\"text-align: left;\"><li><strong>IntegerPropertyValue</strong> &quot;HP&quot;: 8000 (0e95950d-272f-4b50-b68d-ee8fed002c94)</li><li><strong>IntegerPropertyValue</strong> &quot;STR&quot;: 42 (32be6f26-4b33-4861-b501-3bfce3df94cb)</li><li><strong>IntegerPropertyValue</strong> &quot;AGI&quot;: 0 (addb1e4a-9ecc-411c-b7ef-b76388e5840d)</li><li><strong>IntegerPropertyValue</strong> &quot;WIS&quot;: 150 (7c8c9c21-86b9-4dba-9c7c-cd9db2f09c11)</li><li><strong>IntegerPropertyValue</strong> &quot;INT&quot;: 12 (647a5565-a1de-4e15-ab21-eb628eea413c)</li></ol>"
      ],
      "text/plain": [
       "[0] <IntegerPropertyValue 'HP' (0e95950d-272f-4b50-b68d-ee8fed002c94)>\n",
       "[1] <IntegerPropertyValue 'STR' (32be6f26-4b33-4861-b501-3bfce3df94cb)>\n",
       "[2] <IntegerPropertyValue 'AGI' (addb1e4a-9ecc-411c-b7ef-b76388e5840d)>\n",
       "[3] <IntegerPropertyValue 'WIS' (7c8c9c21-86b9-4dba-9c7c-cd9db2f09c11)>\n",
       "[4] <IntegerPropertyValue 'INT' (647a5565-a1de-4e15-ab21-eb628eea413c)>"
      ]
     },
     "execution_count": 6,
     "metadata": {},
     "output_type": "execute_result"
    }
   ],
   "source": [
    "obj.property_value_groups[\"Stats\"]"
   ]
  },
  {
   "cell_type": "code",
   "execution_count": 7,
   "id": "b7943324",
   "metadata": {},
   "outputs": [
    {
     "data": {
      "text/plain": [
       "150"
      ]
     },
     "execution_count": 7,
     "metadata": {},
     "output_type": "execute_result"
    }
   ],
   "source": [
    "obj.property_value_groups[\"Stats\"][\"WIS\"]"
   ]
  },
  {
   "cell_type": "markdown",
   "id": "d7a1d1d5",
   "metadata": {},
   "source": [
    "# Property Value Management (PVMT)\n",
    "\n",
    "What we saw before were unmanaged property values. Taking care of those manually can become quite bothersome and error-prone if there are many objects with custom properties.\n",
    "\n",
    "The PVMT extension allows designers to define specific rules on which type of object can have which property values, organized into Domains, which contain Groups, which then contain Values. PVMT's Domains are emulated by enforcing a strict \"Domain.Group\" naming scheme on Property Value Group objects that are created through PVMT. You can see this using the basic `property_value_groups` property as well:"
   ]
  },
  {
   "cell_type": "code",
   "execution_count": 8,
   "id": "3c6e54dc",
   "metadata": {},
   "outputs": [],
   "source": [
    "voldi = model.search(\"LogicalComponent\").by_name(\"Voldemort\")"
   ]
  },
  {
   "cell_type": "code",
   "execution_count": 9,
   "id": "cdef5b74",
   "metadata": {},
   "outputs": [
    {
     "data": {
      "text/html": [
       "<ol start=\"0\" style=\"text-align: left;\"><li><strong>PropertyValueGroup</strong> &quot;DarkMagic.Power&quot; (cf344a39-bbce-42f3-a32f-76b9358898f3)</li><li><strong>PropertyValueGroup</strong> &quot;DarkMagic.Power Level&quot; (4d2ff7c1-5e1a-4f91-bf6a-de275b1e3899)</li></ol>"
      ],
      "text/plain": [
       "[0] <PropertyValueGroup 'DarkMagic.Power' (cf344a39-bbce-42f3-a32f-76b9358898f3)>\n",
       "[1] <PropertyValueGroup 'DarkMagic.Power Level' (4d2ff7c1-5e1a-4f91-bf6a-de275b1e3899)>"
      ]
     },
     "execution_count": 9,
     "metadata": {},
     "output_type": "execute_result"
    }
   ],
   "source": [
    "voldi.property_value_groups"
   ]
  },
  {
   "cell_type": "markdown",
   "id": "be40fa2c",
   "metadata": {},
   "source": [
    "Model objects also expose the `pvmt` attribute, which gives access to the managed property values applied to an object:"
   ]
  },
  {
   "cell_type": "code",
   "execution_count": 10,
   "id": "fa59b43e",
   "metadata": {},
   "outputs": [
    {
     "data": {
      "text/plain": [
       "<Property Value Management for <Element ownedLogicalComponents at 0x7f69e841e500>>"
      ]
     },
     "execution_count": 10,
     "metadata": {},
     "output_type": "execute_result"
    }
   ],
   "source": [
    "voldi.pvmt"
   ]
  },
  {
   "cell_type": "code",
   "execution_count": null,
   "id": "d501ba08",
   "metadata": {},
   "outputs": [],
   "source": []
  }
 ],
 "metadata": {
  "kernelspec": {
   "display_name": "Python 3 (ipykernel)",
   "language": "python",
   "name": "python3"
  },
  "language_info": {
   "codemirror_mode": {
    "name": "ipython",
    "version": 3
   },
   "file_extension": ".py",
   "mimetype": "text/x-python",
   "name": "python",
   "nbconvert_exporter": "python",
   "pygments_lexer": "ipython3",
   "version": "3.10.9"
  }
 },
 "nbformat": 4,
 "nbformat_minor": 5
}
